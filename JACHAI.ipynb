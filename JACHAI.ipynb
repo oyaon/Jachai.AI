{
  "nbformat": 4,
  "nbformat_minor": 0,
  "metadata": {
    "colab": {
      "provenance": [],
      "authorship_tag": "ABX9TyNyi/mg7DxPUpW7EE+NnhJX",
      "include_colab_link": true
    },
    "kernelspec": {
      "name": "python3",
      "display_name": "Python 3"
    },
    "language_info": {
      "name": "python"
    }
  },
  "cells": [
    {
      "cell_type": "markdown",
      "metadata": {
        "id": "view-in-github",
        "colab_type": "text"
      },
      "source": [
        "<a href=\"https://colab.research.google.com/github/oyaon/Jachai.ai/blob/main/JACHAI.ipynb\" target=\"_parent\"><img src=\"https://colab.research.google.com/assets/colab-badge.svg\" alt=\"Open In Colab\"/></a>"
      ]
    },
    {
      "cell_type": "code",
      "execution_count": 1,
      "metadata": {
        "colab": {
          "base_uri": "https://localhost:8080/"
        },
        "id": "OSKMDwAfTKhq",
        "outputId": "bee91ec1-3b80-4cdf-b617-1d4bb773e3a3"
      },
      "outputs": [
        {
          "output_type": "stream",
          "name": "stdout",
          "text": [
            "Mounted at /content/drive\n",
            "Project root set to: /content/drive/MyDrive/Jachai.AI_Project\n",
            "Directories created/verified.\n"
          ]
        }
      ],
      "source": [
        "from google.colab import drive\n",
        "drive.mount('/content/drive')\n",
        "\n",
        "# Define your project root path in Google Drive\n",
        "project_root = '/content/drive/MyDrive/Jachai.AI_Project'\n",
        "\n",
        "# Create directories if they don't exist (useful if you start a new Colab session)\n",
        "import os\n",
        "os.makedirs(os.path.join(project_root, 'notebooks'), exist_ok=True)\n",
        "os.makedirs(os.path.join(project_root, 'data'), exist_ok=True)\n",
        "os.makedirs(os.path.join(project_root, 'models'), exist_ok=True)\n",
        "os.makedirs(os.path.join(project_root, 'src'), exist_ok=True)\n",
        "os.makedirs(os.path.join(project_root, 'config'), exist_ok=True)\n",
        "\n",
        "print(f\"Project root set to: {project_root}\")\n",
        "print(\"Directories created/verified.\")"
      ]
    }
  ]
}